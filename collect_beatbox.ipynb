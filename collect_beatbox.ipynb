{
 "cells": [
  {
   "cell_type": "code",
   "execution_count": 3,
   "metadata": {},
   "outputs": [],
   "source": [
    "import pandas as pd"
   ]
  },
  {
   "cell_type": "code",
   "execution_count": 4,
   "metadata": {},
   "outputs": [],
   "source": [
    "balance = 'balanced_train_segments.csv'\n",
    "unbalance = 'unbalanced_train_segments.csv'\n",
    "eval = 'eval_segments.csv'\n",
    "# CSV 파일 읽어오기\n",
    "df1 = pd.read_csv(balance, quotechar='\"', skipinitialspace=True)\n",
    "df2 = pd.read_csv(unbalance, quotechar='\"', skipinitialspace=True)\n",
    "df3 = pd.read_csv(eval, quotechar='\"', skipinitialspace=True)"
   ]
  },
  {
   "cell_type": "code",
   "execution_count": 5,
   "metadata": {},
   "outputs": [
    {
     "data": {
      "text/plain": [
       "Index(['YTID', 'start_seconds', 'end_seconds', 'positive_labels'], dtype='object')"
      ]
     },
     "execution_count": 5,
     "metadata": {},
     "output_type": "execute_result"
    }
   ],
   "source": [
    "df1.columns"
   ]
  },
  {
   "cell_type": "code",
   "execution_count": 7,
   "metadata": {},
   "outputs": [],
   "source": [
    "beatbox_df1 = df1[df1['positive_labels'] == \"/m/02cz_7\"]\n",
    "beatbox_df2 = df2[df2['positive_labels'] == \"/m/02cz_7\"]\n",
    "beatbox_df3 = df3[df3['positive_labels'] == \"/m/02cz_7\"]"
   ]
  },
  {
   "cell_type": "code",
   "execution_count": 8,
   "metadata": {},
   "outputs": [
    {
     "data": {
      "text/plain": [
       "(16, 755, 12)"
      ]
     },
     "execution_count": 8,
     "metadata": {},
     "output_type": "execute_result"
    }
   ],
   "source": [
    "len(beatbox_df1), len(beatbox_df2), len(beatbox_df3)"
   ]
  },
  {
   "cell_type": "code",
   "execution_count": 9,
   "metadata": {},
   "outputs": [],
   "source": [
    "beatbox_df = pd.concat([beatbox_df1, beatbox_df2, beatbox_df3], ignore_index=True)\n",
    "beatbox_df.to_csv('yt_beatbox.csv', index=False)"
   ]
  },
  {
   "cell_type": "code",
   "execution_count": 10,
   "metadata": {},
   "outputs": [
    {
     "data": {
      "text/plain": [
       "783"
      ]
     },
     "execution_count": 10,
     "metadata": {},
     "output_type": "execute_result"
    }
   ],
   "source": [
    "len(beatbox_df)"
   ]
  },
  {
   "cell_type": "code",
   "execution_count": null,
   "metadata": {},
   "outputs": [],
   "source": []
  }
 ],
 "metadata": {
  "kernelspec": {
   "display_name": "drummernet",
   "language": "python",
   "name": "python3"
  },
  "language_info": {
   "codemirror_mode": {
    "name": "ipython",
    "version": 3
   },
   "file_extension": ".py",
   "mimetype": "text/x-python",
   "name": "python",
   "nbconvert_exporter": "python",
   "pygments_lexer": "ipython3",
   "version": "3.9.21"
  }
 },
 "nbformat": 4,
 "nbformat_minor": 2
}
