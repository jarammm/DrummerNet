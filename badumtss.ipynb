{
 "cells": [
  {
   "cell_type": "code",
   "execution_count": 8,
   "metadata": {},
   "outputs": [],
   "source": [
    "import wave\n",
    "import os"
   ]
  },
  {
   "cell_type": "code",
   "execution_count": 21,
   "metadata": {},
   "outputs": [],
   "source": [
    "files = os.listdir('data_drumstems_bdt')"
   ]
  },
  {
   "cell_type": "code",
   "execution_count": 22,
   "metadata": {},
   "outputs": [],
   "source": [
    "with open(\"data_drumstems_bdt/files.txt\", \"w\", encoding=\"utf-8\") as file:\n",
    "    for item in files:\n",
    "        with wave.open(f\"data_drumstems_bdt/{item}\", 'rb') as wav_file:\n",
    "            frames = wav_file.getnframes()\n",
    "            rate = wav_file.getframerate()\n",
    "            duration = int(frames / float(rate))\n",
    "        file.write(f\"{item} {duration}\\n\")"
   ]
  },
  {
   "cell_type": "code",
   "execution_count": null,
   "metadata": {},
   "outputs": [],
   "source": [
    "from note_seq.midi_io import midi_file_to_note_sequence\n",
    "\n",
    "def preprocess_midi_onsets(num):\n",
    "    # MIDI 피치 번호를 악기명으로 매핑합니다.\n",
    "    pitch_to_label = {\n",
    "        36: \"KD\",\n",
    "        39: \"CL\",\n",
    "        42: \"HH\",\n",
    "        49: \"CY\"\n",
    "    }\n",
    "    \n",
    "    # MIDI 파일 읽기\n",
    "    midi = midi_file_to_note_sequence(f'../dataset/full/midi/{num}.mid')\n",
    "    \n",
    "    onset_events = []\n",
    "    for note in midi.notes:\n",
    "        label = pitch_to_label[note.pitch]\n",
    "        onset_time = round(note.start_time, 6)\n",
    "        onset_events.append((onset_time, label))\n",
    "    \n",
    "    onset_events.sort(key=lambda x: (x[1], x[0]))\n",
    "    return onset_events"
   ]
  },
  {
   "cell_type": "code",
   "execution_count": null,
   "metadata": {},
   "outputs": [],
   "source": [
    "import os\n",
    "\n",
    "for i in range(4376, 6251):\n",
    "    os.system(f'cp data_drumstems_bdt/{i}.wav data_evals/BDT_DRUMS/audio/{i}.wav')\n",
    "    os.system(f'rm data_drumstems_bdt/{i}.wav')"
   ]
  },
  {
   "cell_type": "code",
   "execution_count": 25,
   "metadata": {},
   "outputs": [],
   "source": [
    "for i in range(4376, 6251):\n",
    "    ith_events = preprocess_midi_onsets(i)\n",
    "    with open(f\"data_evals/BDT_DRUMS/annotations/{i}.txt\", \"w\", encoding=\"utf-8\") as file:\n",
    "        for event in ith_events:\n",
    "            file.write(f\"{event[0]:.6f}\\t{event[1]}\\n\")"
   ]
  },
  {
   "cell_type": "code",
   "execution_count": 9,
   "metadata": {},
   "outputs": [],
   "source": [
    "src_prefix = '../dataset/instruments-new'\n",
    "tgt_prefix = 'data_drum_sources_bdt'\n",
    "folder2label = {'kick':'KD', 'clap':'CL', 'hihat':'HH', 'snare':'CY'}\n",
    "n = 22\n",
    "for folder in folder2label:\n",
    "    for i in range(1, n):\n",
    "        os.system(f'cp {src_prefix}/{folder}/{i:03d}.wav {tgt_prefix}/{i}\\\\){folder2label[folder]}.wav')"
   ]
  },
  {
   "cell_type": "code",
   "execution_count": 2,
   "metadata": {},
   "outputs": [],
   "source": [
    "from pydub import AudioSegment\n",
    "\n",
    "def extend_audio_to_2sec(input_file, output_file):\n",
    "    # WAV 파일 읽기\n",
    "    audio = AudioSegment.from_wav(input_file)\n",
    "    target_duration = 2000  # 2초 = 2000 밀리초\n",
    "\n",
    "    # 현재 파일의 길이가 2초 미만이면, 무음 추가\n",
    "    if len(audio) < target_duration:\n",
    "        silence = AudioSegment.silent(duration=target_duration - len(audio))\n",
    "        extended_audio = audio + silence\n",
    "    else:\n",
    "        extended_audio = audio\n",
    "\n",
    "    # 결과 파일 저장\n",
    "    extended_audio.export(output_file, format=\"wav\")"
   ]
  },
  {
   "cell_type": "code",
   "execution_count": 14,
   "metadata": {},
   "outputs": [],
   "source": [
    "import librosa\n",
    "import numpy as np\n",
    "import soundfile as sf\n",
    "\n",
    "def extend_audio_to_2sec_sr(input_file, output_file, sr=22050):\n",
    "    # 오디오 파일 불러오기 (지정한 sampling rate로)\n",
    "    y, sr = librosa.load(input_file, sr=sr)\n",
    "    \n",
    "    # 현재 오디오 길이(초)\n",
    "    current_duration = len(y) / sr\n",
    "    target_duration = 2.0  # 2초 목표\n",
    "    \n",
    "    if current_duration < target_duration:\n",
    "        # 필요한 샘플 수 계산\n",
    "        target_length = int(target_duration * sr)\n",
    "        # 부족한 부분은 0으로 패딩 (오디오의 끝에 무음 추가)\n",
    "        y = np.pad(y, (0, target_length - len(y)), mode='constant')\n",
    "    \n",
    "    # 수정된 오디오 저장 (WAV 파일)\n",
    "    sf.write(output_file, y, sr)\n"
   ]
  },
  {
   "cell_type": "code",
   "execution_count": 4,
   "metadata": {},
   "outputs": [
    {
     "data": {
      "text/plain": [
       "(84, 'data_drum_sources_bdt/4)CY.wav')"
      ]
     },
     "execution_count": 4,
     "metadata": {},
     "output_type": "execute_result"
    }
   ],
   "source": [
    "import glob\n",
    "tgt_path = glob.glob('data_drum_sources_bdt/*')\n",
    "len(tgt_path), tgt_path[0]"
   ]
  },
  {
   "cell_type": "code",
   "execution_count": 15,
   "metadata": {},
   "outputs": [],
   "source": [
    "for tgt in tgt_path:\n",
    "    extend_audio_to_2sec_sr(tgt, tgt)"
   ]
  },
  {
   "cell_type": "code",
   "execution_count": null,
   "metadata": {},
   "outputs": [],
   "source": []
  }
 ],
 "metadata": {
  "kernelspec": {
   "display_name": "drum",
   "language": "python",
   "name": "python3"
  },
  "language_info": {
   "codemirror_mode": {
    "name": "ipython",
    "version": 3
   },
   "file_extension": ".py",
   "mimetype": "text/x-python",
   "name": "python",
   "nbconvert_exporter": "python",
   "pygments_lexer": "ipython3",
   "version": "3.9.21"
  }
 },
 "nbformat": 4,
 "nbformat_minor": 2
}
