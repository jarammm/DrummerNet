{
 "cells": [
  {
   "cell_type": "code",
   "execution_count": 12,
   "metadata": {},
   "outputs": [],
   "source": [
    "import wave\n",
    "import os"
   ]
  },
  {
   "cell_type": "code",
   "execution_count": 21,
   "metadata": {},
   "outputs": [],
   "source": [
    "files = os.listdir('data_drumstems_bdt')"
   ]
  },
  {
   "cell_type": "code",
   "execution_count": 22,
   "metadata": {},
   "outputs": [],
   "source": [
    "with open(\"data_drumstems_bdt/files.txt\", \"w\", encoding=\"utf-8\") as file:\n",
    "    for item in files:\n",
    "        with wave.open(f\"data_drumstems_bdt/{item}\", 'rb') as wav_file:\n",
    "            frames = wav_file.getnframes()\n",
    "            rate = wav_file.getframerate()\n",
    "            duration = int(frames / float(rate))\n",
    "        file.write(f\"{item} {duration}\\n\")"
   ]
  },
  {
   "cell_type": "code",
   "execution_count": null,
   "metadata": {},
   "outputs": [],
   "source": [
    "from note_seq.midi_io import midi_file_to_note_sequence\n",
    "\n",
    "def preprocess_midi_onsets(num):\n",
    "    # MIDI 피치 번호를 악기명으로 매핑합니다.\n",
    "    pitch_to_label = {\n",
    "        36: \"KD\",\n",
    "        39: \"CL\",\n",
    "        42: \"HH\",\n",
    "        49: \"CY\"\n",
    "    }\n",
    "    \n",
    "    # MIDI 파일 읽기\n",
    "    midi = midi_file_to_note_sequence(f'../dataset/full/midi/{num}.mid')\n",
    "    \n",
    "    onset_events = []\n",
    "    for note in midi.notes:\n",
    "        label = pitch_to_label[note.pitch]\n",
    "        onset_time = round(note.start_time, 6)\n",
    "        onset_events.append((onset_time, label))\n",
    "    \n",
    "    onset_events.sort(key=lambda x: (x[1], x[0]))\n",
    "    return onset_events"
   ]
  },
  {
   "cell_type": "code",
   "execution_count": null,
   "metadata": {},
   "outputs": [],
   "source": [
    "import os\n",
    "\n",
    "for i in range(4376, 6251):\n",
    "    os.system(f'cp data_drumstems_bdt/{i}.wav data_evals/BDT_DRUMS/audio/{i}.wav')\n",
    "    os.system(f'rm data_drumstems_bdt/{i}.wav')"
   ]
  },
  {
   "cell_type": "code",
   "execution_count": 25,
   "metadata": {},
   "outputs": [],
   "source": [
    "for i in range(4376, 6251):\n",
    "    ith_events = preprocess_midi_onsets(i)\n",
    "    with open(f\"data_evals/BDT_DRUMS/annotations/{i}.txt\", \"w\", encoding=\"utf-8\") as file:\n",
    "        for event in ith_events:\n",
    "            file.write(f\"{event[0]:.6f}\\t{event[1]}\\n\")"
   ]
  },
  {
   "cell_type": "code",
   "execution_count": null,
   "metadata": {},
   "outputs": [],
   "source": []
  }
 ],
 "metadata": {
  "kernelspec": {
   "display_name": "drum",
   "language": "python",
   "name": "python3"
  },
  "language_info": {
   "codemirror_mode": {
    "name": "ipython",
    "version": 3
   },
   "file_extension": ".py",
   "mimetype": "text/x-python",
   "name": "python",
   "nbconvert_exporter": "python",
   "pygments_lexer": "ipython3",
   "version": "3.9.21"
  }
 },
 "nbformat": 4,
 "nbformat_minor": 2
}
